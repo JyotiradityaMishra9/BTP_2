{
  "cells": [
    {
      "cell_type": "code",
      "execution_count": 1,
      "metadata": {
        "id": "zkMyK2RGwzMT"
      },
      "outputs": [],
      "source": [
        "import random\n",
        "import numpy as np\n",
        "import tensorflow as tf\n",
        "import os\n",
        "\n",
        "# Set seeds\n",
        "SEED = 42\n",
        "random.seed(SEED)\n",
        "np.random.seed(SEED)\n",
        "tf.random.set_seed(SEED)\n",
        "os.environ['PYTHONHASHSEED'] = str(SEED)\n",
        "os.environ['TF_DETERMINISTIC_OPS'] = '1'"
      ]
    },
    {
      "cell_type": "code",
      "execution_count": null,
      "metadata": {
        "id": "n3GHDZOKoXmV"
      },
      "outputs": [],
      "source": [
        "import pandas as pd\n",
        "import numpy as np\n",
        "import os\n",
        "\n",
        "meta = pd.read_csv('Train_Test_Split.csv')\n",
        "meta = meta[meta['label'].isin(['AD', 'Healthy'])]\n",
        "\n",
        "train_meta = meta[meta['split'] == 'train']\n",
        "test_meta = meta[meta['split'] == 'test']\n",
        "\n",
        "def load_and_segment(subject_id, data_dir='Data_sampled_128HZ', segment_len=1024):\n",
        "    file_path = os.path.join(data_dir, f\"{subject_id}_data.npy\")\n",
        "    data = np.load(file_path)\n",
        "    _, time_steps = data.shape\n",
        "    num_segments = time_steps // segment_len\n",
        "    if num_segments == 0:\n",
        "        return np.empty((0, 19, segment_len))\n",
        "    data = data[:, :num_segments * segment_len]\n",
        "    segments = data.reshape(19, num_segments, segment_len).transpose(1, 0, 2)\n",
        "    return segments\n",
        "\n",
        "def process_data(meta_df, data_dir='Data_sampled_128HZ'):\n",
        "    X = []\n",
        "    y = []\n",
        "    label_map = {'AD': 1, 'Healthy': 0}\n",
        "    for _, row in meta_df.iterrows():\n",
        "        segments = load_and_segment(row['subject_id'], data_dir)\n",
        "        if segments.shape[0] == 0:\n",
        "            continue\n",
        "        X.append(segments)\n",
        "        label = label_map[row['label']]\n",
        "        one_hot = np.eye(2)[label]\n",
        "        y.extend([one_hot] * segments.shape[0])\n",
        "    X = np.concatenate(X, axis=0)\n",
        "    y = np.array(y)\n",
        "    return X, y\n",
        "X_train, y_train = process_data(train_meta)\n",
        "X_test, y_test = process_data(test_meta)\n",
        "X_train = (X_train * 1e6) - np.mean(X_train * 1e6, axis=2, keepdims=True)\n",
        "X_test = (X_test * 1e6) - np.mean(X_test * 1e6, axis=2, keepdims=True)"
      ]
    },
    {
      "cell_type": "code",
      "execution_count": null,
      "metadata": {
        "id": "F2tG3wLIpR8N"
      },
      "outputs": [],
      "source": [
        "from tensorflow.keras.models import load_model, Model\n",
        "\n",
        "def load_and_trim_model(path):\n",
        "    model = load_model(path)\n",
        "    model.pop() \n",
        "    model.trainable = False  # freeze\n",
        "    return model\n",
        "bilstm_model = load_and_trim_model('Models\\Final_Bilstm_model.keras')\n",
        "cnn_time_model = load_and_trim_model('Models\\Final_CNNSpatial_model.keras')\n",
        "cnn_freq_model = load_and_trim_model('Models\\Final_CNNSpectral_model.keras')"
      ]
    },
    {
      "cell_type": "code",
      "execution_count": null,
      "metadata": {
        "id": "ONSpmFBt41V-"
      },
      "outputs": [],
      "source": [
        "import tensorflow as tf\n",
        "from tensorflow.keras.layers import Input, Dense, LayerNormalization, Dropout, MultiHeadAttention, GlobalAveragePooling1D, Concatenate, Lambda, Embedding\n",
        "from tensorflow.keras.models import Model\n",
        "\n",
        "def build_fusion_model_with_transformer(bilstm_model, cnn_time_model, cnn_freq_model, common_dim=128, num_heads=4, ff_dim=256, dropout_rate=0.3):\n",
        "    bilstm_input = Input(shape=bilstm_model.output_shape[1:])\n",
        "    cnn_time_input = Input(shape=cnn_time_model.output_shape[1:])\n",
        "    cnn_freq_input = Input(shape=cnn_freq_model.output_shape[1:])\n",
        "\n",
        "    bilstm_proj = Dense(common_dim)(bilstm_input)\n",
        "    cnn_time_proj = Dense(common_dim)(cnn_time_input)\n",
        "    cnn_freq_proj = Dense(common_dim)(cnn_freq_input)\n",
        "\n",
        "    x = Lambda(lambda t: tf.stack(t, axis=1))([bilstm_proj, cnn_time_proj, cnn_freq_proj])\n",
        "\n",
        "    for _ in range(2):\n",
        "        attn_output = MultiHeadAttention(num_heads=num_heads, key_dim=common_dim)(x, x)\n",
        "        x = LayerNormalization(epsilon=1e-6)(x + attn_output)\n",
        "\n",
        "        ffn_output = Dense(ff_dim, activation='relu')(x)\n",
        "        ffn_output = Dense(common_dim)(ffn_output)\n",
        "        x = LayerNormalization(epsilon=1e-6)(x + ffn_output)\n",
        "\n",
        "    x = GlobalAveragePooling1D()(x)\n",
        "    x = Dropout(dropout_rate)(x)\n",
        "    out = Dense(2, activation='softmax')(x)\n",
        "\n",
        "    model = Model(inputs=[bilstm_input, cnn_time_input, cnn_freq_input], outputs=out)\n",
        "    return model\n"
      ]
    },
    {
      "cell_type": "code",
      "execution_count": null,
      "metadata": {
        "id": "Lo_BCNvc45gf"
      },
      "outputs": [],
      "source": [
        "fusion_model = build_fusion_model_with_transformer(\n",
        "    bilstm_model, cnn_time_model, cnn_freq_model,\n",
        "    common_dim=128, num_heads=4, ff_dim=256, dropout_rate=0.3\n",
        ")\n",
        "\n",
        "from tensorflow.keras.optimizers import Adam\n",
        "\n",
        "optimizer = Adam(learning_rate=1e-3) \n",
        "\n",
        "fusion_model.compile(optimizer=optimizer, loss='categorical_crossentropy', metrics=['accuracy','AUC'])\n"
      ]
    },
    {
      "cell_type": "code",
      "execution_count": null,
      "metadata": {
        "id": "K6GUHXMQ47sS"
      },
      "outputs": [],
      "source": [
        "#BiLSTM Inputs\n",
        "top_channels = [14, 2, 0, 18, 4]\n",
        "X_train_selected = X_train[:, top_channels, :].transpose(0, 2, 1)  # (samples, 1024, 5)\n",
        "X_test_selected = X_test[:, top_channels, :].transpose(0, 2, 1)    # (samples, 1024, 5)\n",
        "X_bilstm_input = X_train_selected\n",
        "# CNNSPatial Inputs\n",
        "X_train_cnn = X_train[..., np.newaxis]  # shape: (N, 19, 1024, 1)\n",
        "X_test_cnn = X_test[..., np.newaxis]\n",
        "X_cnn_time_input = X_train_cnn\n",
        "#CNNSpectral Inputs\n",
        "from scipy.signal import welch\n",
        "\n",
        "def compute_spectral_features(X, fs=128, nperseg=256):\n",
        "    num_segments, num_channels, num_samples = X.shape\n",
        "    psd_all = []\n",
        "\n",
        "    for seg in X:\n",
        "        seg_psd = []\n",
        "        for ch in seg:\n",
        "            freqs, psd = welch(ch, fs=fs, nperseg=nperseg)\n",
        "            seg_psd.append(psd)\n",
        "        psd_all.append(seg_psd)\n",
        "\n",
        "    psd_all = np.array(psd_all)  \n",
        "    psd_all = np.log1p(psd_all)  \n",
        "    return psd_all, freqs\n",
        "\n",
        "X_train_spec, freqs = compute_spectral_features(X_train)\n",
        "X_test_spec, _ = compute_spectral_features(X_test)\n",
        "\n",
        "X_train_spec = X_train_spec[..., np.newaxis]  # shape: (N, 19, freq_bins, 1)\n",
        "X_test_spec = X_test_spec[..., np.newaxis]\n",
        "\n",
        "X_cnn_freq_input = X_train_spec"
      ]
    },
    {
      "cell_type": "code",
      "execution_count": 7,
      "metadata": {
        "id": "kTS1bHnU5Cuu"
      },
      "outputs": [],
      "source": [
        "from tensorflow.keras.callbacks import EarlyStopping, ReduceLROnPlateau\n",
        "callbacks = [\n",
        "    EarlyStopping(monitor='val_loss', patience=30, restore_best_weights=True),\n",
        "    ReduceLROnPlateau(monitor='val_loss', factor=0.5, patience=4)\n",
        "]"
      ]
    },
    {
      "cell_type": "code",
      "execution_count": null,
      "metadata": {
        "colab": {
          "base_uri": "https://localhost:8080/"
        },
        "id": "qPjqVTCM5Ekk",
        "outputId": "406d3e35-64f9-485c-d4f1-49a21665a467"
      },
      "outputs": [
        {
          "name": "stdout",
          "output_type": "stream",
          "text": [
            "\u001b[1m164/164\u001b[0m \u001b[32m━━━━━━━━━━━━━━━━━━━━\u001b[0m\u001b[37m\u001b[0m \u001b[1m10s\u001b[0m 55ms/step\n",
            "\u001b[1m164/164\u001b[0m \u001b[32m━━━━━━━━━━━━━━━━━━━━\u001b[0m\u001b[37m\u001b[0m \u001b[1m2s\u001b[0m 9ms/step\n",
            "\u001b[1m164/164\u001b[0m \u001b[32m━━━━━━━━━━━━━━━━━━━━\u001b[0m\u001b[37m\u001b[0m \u001b[1m1s\u001b[0m 3ms/step\n"
          ]
        }
      ],
      "source": [
        "X_bilstm_feat = bilstm_model.predict(X_bilstm_input)\n",
        "X_cnn_time_feat = cnn_time_model.predict(X_cnn_time_input)\n",
        "X_cnn_freq_feat = cnn_freq_model.predict(X_cnn_freq_input)"
      ]
    },
    {
      "cell_type": "code",
      "execution_count": null,
      "metadata": {
        "colab": {
          "base_uri": "https://localhost:8080/"
        },
        "id": "5O3cUFs75Gj0",
        "outputId": "c51f7638-7067-4064-9584-1b634eebfb5c"
      },
      "outputs": [
        {
          "name": "stdout",
          "output_type": "stream",
          "text": [
            "Epoch 1/50\n",
            "\u001b[1m132/132\u001b[0m \u001b[32m━━━━━━━━━━━━━━━━━━━━\u001b[0m\u001b[37m\u001b[0m \u001b[1m17s\u001b[0m 51ms/step - AUC: 0.9775 - accuracy: 0.9468 - loss: 0.1702 - val_AUC: 0.9778 - val_accuracy: 0.9362 - val_loss: 0.2023 - learning_rate: 0.0010\n",
            "Epoch 2/50\n",
            "\u001b[1m132/132\u001b[0m \u001b[32m━━━━━━━━━━━━━━━━━━━━\u001b[0m\u001b[37m\u001b[0m \u001b[1m3s\u001b[0m 18ms/step - AUC: 0.9982 - accuracy: 0.9888 - loss: 0.0362 - val_AUC: 0.9607 - val_accuracy: 0.9038 - val_loss: 0.2718 - learning_rate: 0.0010\n",
            "Epoch 3/50\n",
            "\u001b[1m132/132\u001b[0m \u001b[32m━━━━━━━━━━━━━━━━━━━━\u001b[0m\u001b[37m\u001b[0m \u001b[1m2s\u001b[0m 18ms/step - AUC: 0.9967 - accuracy: 0.9901 - loss: 0.0358 - val_AUC: 0.9810 - val_accuracy: 0.9343 - val_loss: 0.2036 - learning_rate: 0.0010\n",
            "Epoch 4/50\n",
            "\u001b[1m132/132\u001b[0m \u001b[32m━━━━━━━━━━━━━━━━━━━━\u001b[0m\u001b[37m\u001b[0m \u001b[1m2s\u001b[0m 17ms/step - AUC: 0.9975 - accuracy: 0.9896 - loss: 0.0376 - val_AUC: 0.9809 - val_accuracy: 0.9448 - val_loss: 0.1792 - learning_rate: 0.0010\n",
            "Epoch 5/50\n",
            "\u001b[1m132/132\u001b[0m \u001b[32m━━━━━━━━━━━━━━━━━━━━\u001b[0m\u001b[37m\u001b[0m \u001b[1m3s\u001b[0m 26ms/step - AUC: 0.9989 - accuracy: 0.9937 - loss: 0.0242 - val_AUC: 0.9526 - val_accuracy: 0.8857 - val_loss: 0.3334 - learning_rate: 0.0010\n",
            "Epoch 6/50\n",
            "\u001b[1m132/132\u001b[0m \u001b[32m━━━━━━━━━━━━━━━━━━━━\u001b[0m\u001b[37m\u001b[0m \u001b[1m5s\u001b[0m 29ms/step - AUC: 0.9984 - accuracy: 0.9923 - loss: 0.0305 - val_AUC: 0.9770 - val_accuracy: 0.9143 - val_loss: 0.2256 - learning_rate: 0.0010\n",
            "Epoch 7/50\n",
            "\u001b[1m132/132\u001b[0m \u001b[32m━━━━━━━━━━━━━━━━━━━━\u001b[0m\u001b[37m\u001b[0m \u001b[1m4s\u001b[0m 18ms/step - AUC: 0.9989 - accuracy: 0.9899 - loss: 0.0287 - val_AUC: 0.9837 - val_accuracy: 0.9314 - val_loss: 0.1694 - learning_rate: 0.0010\n",
            "Epoch 8/50\n",
            "\u001b[1m132/132\u001b[0m \u001b[32m━━━━━━━━━━━━━━━━━━━━\u001b[0m\u001b[37m\u001b[0m \u001b[1m3s\u001b[0m 25ms/step - AUC: 0.9993 - accuracy: 0.9912 - loss: 0.0286 - val_AUC: 0.9711 - val_accuracy: 0.9124 - val_loss: 0.2615 - learning_rate: 0.0010\n",
            "Epoch 9/50\n",
            "\u001b[1m132/132\u001b[0m \u001b[32m━━━━━━━━━━━━━━━━━━━━\u001b[0m\u001b[37m\u001b[0m \u001b[1m6s\u001b[0m 29ms/step - AUC: 0.9993 - accuracy: 0.9931 - loss: 0.0222 - val_AUC: 0.9658 - val_accuracy: 0.8905 - val_loss: 0.3021 - learning_rate: 0.0010\n",
            "Epoch 10/50\n",
            "\u001b[1m132/132\u001b[0m \u001b[32m━━━━━━━━━━━━━━━━━━━━\u001b[0m\u001b[37m\u001b[0m \u001b[1m7s\u001b[0m 48ms/step - AUC: 0.9990 - accuracy: 0.9917 - loss: 0.0247 - val_AUC: 0.9700 - val_accuracy: 0.9162 - val_loss: 0.2710 - learning_rate: 0.0010\n",
            "Epoch 11/50\n",
            "\u001b[1m132/132\u001b[0m \u001b[32m━━━━━━━━━━━━━━━━━━━━\u001b[0m\u001b[37m\u001b[0m \u001b[1m6s\u001b[0m 18ms/step - AUC: 0.9991 - accuracy: 0.9927 - loss: 0.0213 - val_AUC: 0.9580 - val_accuracy: 0.9019 - val_loss: 0.3211 - learning_rate: 0.0010\n",
            "Epoch 12/50\n",
            "\u001b[1m132/132\u001b[0m \u001b[32m━━━━━━━━━━━━━━━━━━━━\u001b[0m\u001b[37m\u001b[0m \u001b[1m3s\u001b[0m 19ms/step - AUC: 0.9987 - accuracy: 0.9937 - loss: 0.0245 - val_AUC: 0.9292 - val_accuracy: 0.8476 - val_loss: 0.4519 - learning_rate: 5.0000e-04\n",
            "Epoch 13/50\n",
            "\u001b[1m132/132\u001b[0m \u001b[32m━━━━━━━━━━━━━━━━━━━━\u001b[0m\u001b[37m\u001b[0m \u001b[1m2s\u001b[0m 18ms/step - AUC: 0.9992 - accuracy: 0.9906 - loss: 0.0262 - val_AUC: 0.9674 - val_accuracy: 0.8990 - val_loss: 0.2718 - learning_rate: 5.0000e-04\n",
            "Epoch 14/50\n",
            "\u001b[1m132/132\u001b[0m \u001b[32m━━━━━━━━━━━━━━━━━━━━\u001b[0m\u001b[37m\u001b[0m \u001b[1m3s\u001b[0m 23ms/step - AUC: 0.9993 - accuracy: 0.9897 - loss: 0.0239 - val_AUC: 0.9594 - val_accuracy: 0.8857 - val_loss: 0.3383 - learning_rate: 5.0000e-04\n",
            "Epoch 15/50\n",
            "\u001b[1m132/132\u001b[0m \u001b[32m━━━━━━━━━━━━━━━━━━━━\u001b[0m\u001b[37m\u001b[0m \u001b[1m3s\u001b[0m 25ms/step - AUC: 0.9992 - accuracy: 0.9928 - loss: 0.0204 - val_AUC: 0.9701 - val_accuracy: 0.9152 - val_loss: 0.2763 - learning_rate: 5.0000e-04\n",
            "Epoch 16/50\n",
            "\u001b[1m132/132\u001b[0m \u001b[32m━━━━━━━━━━━━━━━━━━━━\u001b[0m\u001b[37m\u001b[0m \u001b[1m4s\u001b[0m 19ms/step - AUC: 0.9995 - accuracy: 0.9948 - loss: 0.0160 - val_AUC: 0.9642 - val_accuracy: 0.9162 - val_loss: 0.2985 - learning_rate: 2.5000e-04\n",
            "Epoch 17/50\n",
            "\u001b[1m132/132\u001b[0m \u001b[32m━━━━━━━━━━━━━━━━━━━━\u001b[0m\u001b[37m\u001b[0m \u001b[1m2s\u001b[0m 18ms/step - AUC: 0.9997 - accuracy: 0.9958 - loss: 0.0120 - val_AUC: 0.9636 - val_accuracy: 0.9171 - val_loss: 0.3329 - learning_rate: 2.5000e-04\n",
            "Epoch 18/50\n",
            "\u001b[1m132/132\u001b[0m \u001b[32m━━━━━━━━━━━━━━━━━━━━\u001b[0m\u001b[37m\u001b[0m \u001b[1m3s\u001b[0m 21ms/step - AUC: 0.9997 - accuracy: 0.9974 - loss: 0.0109 - val_AUC: 0.9699 - val_accuracy: 0.9295 - val_loss: 0.2846 - learning_rate: 2.5000e-04\n",
            "Epoch 19/50\n",
            "\u001b[1m132/132\u001b[0m \u001b[32m━━━━━━━━━━━━━━━━━━━━\u001b[0m\u001b[37m\u001b[0m \u001b[1m4s\u001b[0m 28ms/step - AUC: 0.9998 - accuracy: 0.9974 - loss: 0.0083 - val_AUC: 0.9517 - val_accuracy: 0.9133 - val_loss: 0.4321 - learning_rate: 2.5000e-04\n",
            "Epoch 20/50\n",
            "\u001b[1m132/132\u001b[0m \u001b[32m━━━━━━━━━━━━━━━━━━━━\u001b[0m\u001b[37m\u001b[0m \u001b[1m2s\u001b[0m 18ms/step - AUC: 1.0000 - accuracy: 0.9971 - loss: 0.0083 - val_AUC: 0.9534 - val_accuracy: 0.9181 - val_loss: 0.4308 - learning_rate: 1.2500e-04\n",
            "Epoch 21/50\n",
            "\u001b[1m132/132\u001b[0m \u001b[32m━━━━━━━━━━━━━━━━━━━━\u001b[0m\u001b[37m\u001b[0m \u001b[1m2s\u001b[0m 18ms/step - AUC: 1.0000 - accuracy: 0.9971 - loss: 0.0062 - val_AUC: 0.9482 - val_accuracy: 0.9152 - val_loss: 0.4685 - learning_rate: 1.2500e-04\n",
            "Epoch 22/50\n",
            "\u001b[1m132/132\u001b[0m \u001b[32m━━━━━━━━━━━━━━━━━━━━\u001b[0m\u001b[37m\u001b[0m \u001b[1m3s\u001b[0m 18ms/step - AUC: 1.0000 - accuracy: 0.9980 - loss: 0.0057 - val_AUC: 0.9504 - val_accuracy: 0.9181 - val_loss: 0.4556 - learning_rate: 1.2500e-04\n",
            "Epoch 23/50\n",
            "\u001b[1m132/132\u001b[0m \u001b[32m━━━━━━━━━━━━━━━━━━━━\u001b[0m\u001b[37m\u001b[0m \u001b[1m3s\u001b[0m 20ms/step - AUC: 1.0000 - accuracy: 0.9985 - loss: 0.0044 - val_AUC: 0.9505 - val_accuracy: 0.9210 - val_loss: 0.4677 - learning_rate: 1.2500e-04\n",
            "Epoch 24/50\n",
            "\u001b[1m132/132\u001b[0m \u001b[32m━━━━━━━━━━━━━━━━━━━━\u001b[0m\u001b[37m\u001b[0m \u001b[1m4s\u001b[0m 29ms/step - AUC: 1.0000 - accuracy: 0.9994 - loss: 0.0029 - val_AUC: 0.9484 - val_accuracy: 0.9238 - val_loss: 0.4912 - learning_rate: 6.2500e-05\n",
            "Epoch 25/50\n",
            "\u001b[1m132/132\u001b[0m \u001b[32m━━━━━━━━━━━━━━━━━━━━\u001b[0m\u001b[37m\u001b[0m \u001b[1m2s\u001b[0m 19ms/step - AUC: 1.0000 - accuracy: 0.9992 - loss: 0.0024 - val_AUC: 0.9465 - val_accuracy: 0.9229 - val_loss: 0.5083 - learning_rate: 6.2500e-05\n",
            "Epoch 26/50\n",
            "\u001b[1m132/132\u001b[0m \u001b[32m━━━━━━━━━━━━━━━━━━━━\u001b[0m\u001b[37m\u001b[0m \u001b[1m3s\u001b[0m 19ms/step - AUC: 1.0000 - accuracy: 0.9997 - loss: 0.0014 - val_AUC: 0.9445 - val_accuracy: 0.9219 - val_loss: 0.5401 - learning_rate: 6.2500e-05\n",
            "Epoch 27/50\n",
            "\u001b[1m132/132\u001b[0m \u001b[32m━━━━━━━━━━━━━━━━━━━━\u001b[0m\u001b[37m\u001b[0m \u001b[1m2s\u001b[0m 18ms/step - AUC: 1.0000 - accuracy: 0.9997 - loss: 0.0015 - val_AUC: 0.9453 - val_accuracy: 0.9257 - val_loss: 0.5382 - learning_rate: 6.2500e-05\n",
            "Epoch 28/50\n",
            "\u001b[1m132/132\u001b[0m \u001b[32m━━━━━━━━━━━━━━━━━━━━\u001b[0m\u001b[37m\u001b[0m \u001b[1m3s\u001b[0m 20ms/step - AUC: 1.0000 - accuracy: 0.9998 - loss: 0.0011 - val_AUC: 0.9452 - val_accuracy: 0.9238 - val_loss: 0.5527 - learning_rate: 3.1250e-05\n",
            "Epoch 29/50\n",
            "\u001b[1m132/132\u001b[0m \u001b[32m━━━━━━━━━━━━━━━━━━━━\u001b[0m\u001b[37m\u001b[0m \u001b[1m5s\u001b[0m 18ms/step - AUC: 1.0000 - accuracy: 0.9997 - loss: 0.0012 - val_AUC: 0.9432 - val_accuracy: 0.9210 - val_loss: 0.5684 - learning_rate: 3.1250e-05\n",
            "Epoch 30/50\n",
            "\u001b[1m132/132\u001b[0m \u001b[32m━━━━━━━━━━━━━━━━━━━━\u001b[0m\u001b[37m\u001b[0m \u001b[1m3s\u001b[0m 18ms/step - AUC: 1.0000 - accuracy: 0.9997 - loss: 0.0011 - val_AUC: 0.9425 - val_accuracy: 0.9210 - val_loss: 0.5739 - learning_rate: 3.1250e-05\n",
            "Epoch 31/50\n",
            "\u001b[1m132/132\u001b[0m \u001b[32m━━━━━━━━━━━━━━━━━━━━\u001b[0m\u001b[37m\u001b[0m \u001b[1m3s\u001b[0m 19ms/step - AUC: 1.0000 - accuracy: 0.9998 - loss: 8.8663e-04 - val_AUC: 0.9409 - val_accuracy: 0.9210 - val_loss: 0.5828 - learning_rate: 3.1250e-05\n",
            "Epoch 32/50\n",
            "\u001b[1m132/132\u001b[0m \u001b[32m━━━━━━━━━━━━━━━━━━━━\u001b[0m\u001b[37m\u001b[0m \u001b[1m3s\u001b[0m 20ms/step - AUC: 1.0000 - accuracy: 1.0000 - loss: 6.5209e-04 - val_AUC: 0.9410 - val_accuracy: 0.9210 - val_loss: 0.5843 - learning_rate: 1.5625e-05\n",
            "Epoch 33/50\n",
            "\u001b[1m132/132\u001b[0m \u001b[32m━━━━━━━━━━━━━━━━━━━━\u001b[0m\u001b[37m\u001b[0m \u001b[1m4s\u001b[0m 30ms/step - AUC: 1.0000 - accuracy: 1.0000 - loss: 6.2856e-04 - val_AUC: 0.9410 - val_accuracy: 0.9210 - val_loss: 0.5848 - learning_rate: 1.5625e-05\n",
            "Epoch 34/50\n",
            "\u001b[1m132/132\u001b[0m \u001b[32m━━━━━━━━━━━━━━━━━━━━\u001b[0m\u001b[37m\u001b[0m \u001b[1m4s\u001b[0m 18ms/step - AUC: 1.0000 - accuracy: 1.0000 - loss: 5.4597e-04 - val_AUC: 0.9410 - val_accuracy: 0.9210 - val_loss: 0.5898 - learning_rate: 1.5625e-05\n",
            "Epoch 35/50\n",
            "\u001b[1m132/132\u001b[0m \u001b[32m━━━━━━━━━━━━━━━━━━━━\u001b[0m\u001b[37m\u001b[0m \u001b[1m3s\u001b[0m 21ms/step - AUC: 1.0000 - accuracy: 1.0000 - loss: 4.4544e-04 - val_AUC: 0.9409 - val_accuracy: 0.9200 - val_loss: 0.5970 - learning_rate: 1.5625e-05\n",
            "Epoch 36/50\n",
            "\u001b[1m132/132\u001b[0m \u001b[32m━━━━━━━━━━━━━━━━━━━━\u001b[0m\u001b[37m\u001b[0m \u001b[1m3s\u001b[0m 19ms/step - AUC: 1.0000 - accuracy: 1.0000 - loss: 4.2125e-04 - val_AUC: 0.9410 - val_accuracy: 0.9200 - val_loss: 0.5994 - learning_rate: 7.8125e-06\n",
            "Epoch 37/50\n",
            "\u001b[1m132/132\u001b[0m \u001b[32m━━━━━━━━━━━━━━━━━━━━\u001b[0m\u001b[37m\u001b[0m \u001b[1m5s\u001b[0m 20ms/step - AUC: 1.0000 - accuracy: 1.0000 - loss: 3.5893e-04 - val_AUC: 0.9409 - val_accuracy: 0.9200 - val_loss: 0.6051 - learning_rate: 7.8125e-06\n"
          ]
        },
        {
          "data": {
            "text/plain": [
              "<keras.src.callbacks.history.History at 0x7ca5081efdd0>"
            ]
          },
          "execution_count": 9,
          "metadata": {},
          "output_type": "execute_result"
        }
      ],
      "source": [
        "fusion_model.fit(\n",
        "    [X_bilstm_feat, X_cnn_time_feat, X_cnn_freq_feat],\n",
        "    y_train,\n",
        "    validation_split=0.2,\n",
        "    epochs=50,\n",
        "    batch_size=32,\n",
        "    callbacks = callbacks\n",
        ")\n"
      ]
    },
    {
      "cell_type": "code",
      "execution_count": 11,
      "metadata": {
        "colab": {
          "base_uri": "https://localhost:8080/"
        },
        "id": "FlFGFBQw6WF_",
        "outputId": "1d879cd4-619a-4dea-8136-e4ddeb2a935e"
      },
      "outputs": [
        {
          "name": "stdout",
          "output_type": "stream",
          "text": [
            "\u001b[1m37/37\u001b[0m \u001b[32m━━━━━━━━━━━━━━━━━━━━\u001b[0m\u001b[37m\u001b[0m \u001b[1m4s\u001b[0m 105ms/step\n",
            "\u001b[1m37/37\u001b[0m \u001b[32m━━━━━━━━━━━━━━━━━━━━\u001b[0m\u001b[37m\u001b[0m \u001b[1m1s\u001b[0m 29ms/step\n",
            "\u001b[1m37/37\u001b[0m \u001b[32m━━━━━━━━━━━━━━━━━━━━\u001b[0m\u001b[37m\u001b[0m \u001b[1m0s\u001b[0m 11ms/step\n"
          ]
        }
      ],
      "source": [
        "X_bilstm_test_feat = bilstm_model.predict(X_test_selected)\n",
        "X_cnn_time_test_feat = cnn_time_model.predict(X_test_cnn)\n",
        "X_cnn_freq_test_feat = cnn_freq_model.predict(X_test_spec)"
      ]
    },
    {
      "cell_type": "code",
      "execution_count": 12,
      "metadata": {
        "colab": {
          "base_uri": "https://localhost:8080/"
        },
        "id": "GdheR3AC5IbK",
        "outputId": "419763aa-a374-4339-dc34-a50eed663a6f"
      },
      "outputs": [
        {
          "name": "stdout",
          "output_type": "stream",
          "text": [
            "\u001b[1m37/37\u001b[0m \u001b[32m━━━━━━━━━━━━━━━━━━━━\u001b[0m\u001b[37m\u001b[0m \u001b[1m1s\u001b[0m 14ms/step\n",
            "ROC AUC: 0.9311796069973639\n",
            "Average Precision: 0.9367258349276433\n",
            "              precision    recall  f1-score   support\n",
            "\n",
            "           0       0.89      0.76      0.82       535\n",
            "           1       0.82      0.92      0.87       624\n",
            "\n",
            "    accuracy                           0.85      1159\n",
            "   macro avg       0.86      0.84      0.85      1159\n",
            "weighted avg       0.85      0.85      0.85      1159\n",
            "\n"
          ]
        }
      ],
      "source": [
        "from sklearn.metrics import classification_report, roc_auc_score, average_precision_score\n",
        "\n",
        "y_pred = fusion_model.predict([X_bilstm_test_feat, X_cnn_time_test_feat, X_cnn_freq_test_feat])\n",
        "y_pred_classes = np.argmax(y_pred, axis=1)\n",
        "y_true = np.argmax(y_test, axis=1)\n",
        "\n",
        "print(\"ROC AUC:\", roc_auc_score(y_true, y_pred[:, 1]))\n",
        "print(\"Average Precision:\", average_precision_score(y_true, y_pred[:, 1]))\n",
        "print(classification_report(y_true, y_pred_classes))"
      ]
    },
    {
      "cell_type": "code",
      "execution_count": null,
      "metadata": {},
      "outputs": [],
      "source": [
        "output_folder = \"Models\"\n",
        "os.makedirs(output_folder,exist_ok=True)\n",
        "model_path = os.path.join(output_folder,\"Final_End_to_End_model.keras\")\n",
        "model.save(model_path)"
      ]
    },
    {
      "cell_type": "code",
      "execution_count": null,
      "metadata": {
        "id": "P_JK33VV5Vgf"
      },
      "outputs": [],
      "source": [
        "from scipy.stats import mode\n",
        "\n",
        "def patient_level_ensemble_2(fusion_model, bilstm_model, cnn_time_model, cnn_freq_model, meta_df, voting='soft'):\n",
        "    y_true = []\n",
        "    y_pred = []\n",
        "    y_prob = [] \n",
        "\n",
        "    for _, row in meta_df.iterrows():\n",
        "        subject_id = row['subject_id']\n",
        "        label_str = row['label']\n",
        "        true_label = 1 if label_str == 'AD' else 0\n",
        "\n",
        "        segments = load_and_segment(subject_id)\n",
        "        if segments.shape[0] == 0:\n",
        "            continue\n",
        "        segments = (segments * 1e6) - np.mean(segments * 1e6, axis=2, keepdims=True)\n",
        "        top_channels = [14, 2, 0, 18, 4]\n",
        "        bilstm_input = segments[:, top_channels, :].transpose(0, 2, 1)\n",
        "        cnn_time_input = segments[..., np.newaxis]\n",
        "        spec_feats, _ = compute_spectral_features(segments)\n",
        "        cnn_freq_input = spec_feats[..., np.newaxis]\n",
        "\n",
        "        bilstm_feat = bilstm_model.predict(bilstm_input, verbose=0)\n",
        "        cnn_time_feat = cnn_time_model.predict(cnn_time_input, verbose=0)\n",
        "        cnn_freq_feat = cnn_freq_model.predict(cnn_freq_input, verbose=0)\n",
        "\n",
        "        preds = fusion_model.predict([bilstm_feat, cnn_time_feat, cnn_freq_feat], verbose=0)\n",
        "\n",
        "        if voting == 'soft':\n",
        "            avg_prob = np.mean(preds, axis=0)\n",
        "            y_pred.append(np.argmax(avg_prob))\n",
        "            y_prob.append(avg_prob[1])\n",
        "        elif voting == 'hard':\n",
        "            pred_classes = np.argmax(preds, axis=1)\n",
        "            voted_class = mode(pred_classes, keepdims=True).mode[0]\n",
        "            y_pred.append(voted_class)\n",
        "            y_prob.append(np.mean(preds[:, 1]))\n",
        "\n",
        "        y_true.append(true_label)\n",
        "\n",
        "    return np.array(y_true), np.array(y_pred), np.array(y_prob)\n"
      ]
    },
    {
      "cell_type": "code",
      "execution_count": null,
      "metadata": {
        "id": "P6ZlsY9M5Z5s"
      },
      "outputs": [],
      "source": [
        "yt_hard, yp_hard, prob_hard = patient_level_ensemble_2(fusion_model, bilstm_model, cnn_time_model, cnn_freq_model, test_meta, voting='hard')"
      ]
    },
    {
      "cell_type": "code",
      "execution_count": null,
      "metadata": {
        "colab": {
          "base_uri": "https://localhost:8080/"
        },
        "id": "wH1nj5Uv5cEM",
        "outputId": "87189346-0846-4d13-f3fb-b85160bf0bcc"
      },
      "outputs": [
        {
          "name": "stdout",
          "output_type": "stream",
          "text": [
            "\n",
            "=== Hard Voting Results ===\n",
            "              precision    recall  f1-score   support\n",
            "\n",
            "           0       1.00      0.80      0.89         5\n",
            "           1       0.86      1.00      0.92         6\n",
            "\n",
            "    accuracy                           0.91        11\n",
            "   macro avg       0.93      0.90      0.91        11\n",
            "weighted avg       0.92      0.91      0.91        11\n",
            "\n"
          ]
        }
      ],
      "source": [
        "from sklearn.metrics import classification_report, roc_auc_score, average_precision_score\n",
        "\n",
        "def evaluate_predictions(y_true, y_pred, y_prob, voting_type=\"Soft\"):\n",
        "    print(f\"\\n=== {voting_type} Voting Results ===\")\n",
        "    print(classification_report(y_true, y_pred))\n",
        "\n",
        "evaluate_predictions(yt_hard, yp_hard, prob_hard, voting_type=\"Hard\")"
      ]
    }
  ],
  "metadata": {
    "accelerator": "GPU",
    "colab": {
      "gpuType": "T4",
      "provenance": []
    },
    "kernelspec": {
      "display_name": "Python 3",
      "name": "python3"
    },
    "language_info": {
      "name": "python"
    }
  },
  "nbformat": 4,
  "nbformat_minor": 0
}
