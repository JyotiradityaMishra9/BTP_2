{
  "cells": [
    {
      "cell_type": "code",
      "execution_count": 1,
      "metadata": {
        "id": "zkMyK2RGwzMT"
      },
      "outputs": [],
      "source": [
        "import random\n",
        "import numpy as np\n",
        "import tensorflow as tf\n",
        "import os\n",
        "\n",
        "# Set seeds\n",
        "SEED = 42\n",
        "random.seed(SEED)\n",
        "np.random.seed(SEED)\n",
        "tf.random.set_seed(SEED)\n",
        "os.environ['PYTHONHASHSEED'] = str(SEED)\n",
        "os.environ['TF_DETERMINISTIC_OPS'] = '1'"
      ]
    },
    {
      "cell_type": "code",
      "execution_count": null,
      "metadata": {
        "id": "n3GHDZOKoXmV"
      },
      "outputs": [],
      "source": [
        "import pandas as pd\n",
        "import numpy as np\n",
        "import os\n",
        "\n",
        "meta = pd.read_csv('Train_Test_Split.csv')\n",
        "meta = meta[meta['label'].isin(['AD', 'Healthy'])]\n",
        "\n",
        "train_meta = meta[meta['split'] == 'train']\n",
        "test_meta = meta[meta['split'] == 'test']\n",
        "\n",
        "def load_and_segment(subject_id, data_dir='Data_sampled_128HZ', segment_len=1024):\n",
        "    file_path = os.path.join(data_dir, f\"{subject_id}_data.npy\")\n",
        "    data = np.load(file_path)\n",
        "    _, time_steps = data.shape\n",
        "    num_segments = time_steps // segment_len\n",
        "    if num_segments == 0:\n",
        "        return np.empty((0, 19, segment_len))\n",
        "    data = data[:, :num_segments * segment_len]\n",
        "    segments = data.reshape(19, num_segments, segment_len).transpose(1, 0, 2)\n",
        "    return segments\n",
        "\n",
        "def process_data(meta_df, data_dir='Data_sampled_128HZ'):\n",
        "    X = []\n",
        "    y = []\n",
        "    label_map = {'AD': 1, 'Healthy': 0}\n",
        "    for _, row in meta_df.iterrows():\n",
        "        segments = load_and_segment(row['subject_id'], data_dir)\n",
        "        if segments.shape[0] == 0:\n",
        "            continue\n",
        "        X.append(segments)\n",
        "        label = label_map[row['label']]\n",
        "        one_hot = np.eye(2)[label]\n",
        "        y.extend([one_hot] * segments.shape[0])\n",
        "    X = np.concatenate(X, axis=0)\n",
        "    y = np.array(y)\n",
        "    return X, y\n",
        "X_train, y_train = process_data(train_meta)\n",
        "X_test, y_test = process_data(test_meta)\n",
        "X_train = (X_train * 1e6) - np.mean(X_train * 1e6, axis=2, keepdims=True)\n",
        "X_test = (X_test * 1e6) - np.mean(X_test * 1e6, axis=2, keepdims=True)"
      ]
    },
    {
      "cell_type": "code",
      "execution_count": 3,
      "metadata": {
        "colab": {
          "base_uri": "https://localhost:8080/"
        },
        "id": "F2tG3wLIpR8N",
        "outputId": "85ab8467-90f5-40d1-b008-121635260d76"
      },
      "outputs": [
        {
          "name": "stderr",
          "output_type": "stream",
          "text": [
            "/usr/local/lib/python3.11/dist-packages/keras/src/layers/rnn/bidirectional.py:107: UserWarning: Do not pass an `input_shape`/`input_dim` argument to a layer. When using Sequential models, prefer using an `Input(shape)` object as the first layer in the model instead.\n",
            "  super().__init__(**kwargs)\n"
          ]
        },
        {
          "name": "stdout",
          "output_type": "stream",
          "text": [
            "Epoch 1/50\n",
            "\u001b[1m164/164\u001b[0m \u001b[32m━━━━━━━━━━━━━━━━━━━━\u001b[0m\u001b[37m\u001b[0m \u001b[1m34s\u001b[0m 157ms/step - AUC: 0.5134 - accuracy: 0.5113 - loss: 0.8034 - val_AUC: 0.5517 - val_accuracy: 0.5418 - val_loss: 0.6905 - learning_rate: 0.0010\n",
            "Epoch 2/50\n",
            "\u001b[1m164/164\u001b[0m \u001b[32m━━━━━━━━━━━━━━━━━━━━\u001b[0m\u001b[37m\u001b[0m \u001b[1m37s\u001b[0m 154ms/step - AUC: 0.5448 - accuracy: 0.5351 - loss: 0.7055 - val_AUC: 0.5562 - val_accuracy: 0.5401 - val_loss: 0.6975 - learning_rate: 0.0010\n",
            "Epoch 3/50\n",
            "\u001b[1m164/164\u001b[0m \u001b[32m━━━━━━━━━━━━━━━━━━━━\u001b[0m\u001b[37m\u001b[0m \u001b[1m41s\u001b[0m 152ms/step - AUC: 0.5681 - accuracy: 0.5464 - loss: 0.6925 - val_AUC: 0.5840 - val_accuracy: 0.5660 - val_loss: 0.6849 - learning_rate: 0.0010\n",
            "Epoch 4/50\n",
            "\u001b[1m164/164\u001b[0m \u001b[32m━━━━━━━━━━━━━━━━━━━━\u001b[0m\u001b[37m\u001b[0m \u001b[1m41s\u001b[0m 152ms/step - AUC: 0.6053 - accuracy: 0.5761 - loss: 0.6798 - val_AUC: 0.6177 - val_accuracy: 0.5884 - val_loss: 0.6730 - learning_rate: 0.0010\n",
            "Epoch 5/50\n",
            "\u001b[1m164/164\u001b[0m \u001b[32m━━━━━━━━━━━━━━━━━━━━\u001b[0m\u001b[37m\u001b[0m \u001b[1m41s\u001b[0m 154ms/step - AUC: 0.6343 - accuracy: 0.6011 - loss: 0.6660 - val_AUC: 0.6138 - val_accuracy: 0.5867 - val_loss: 0.6997 - learning_rate: 0.0010\n",
            "Epoch 6/50\n",
            "\u001b[1m164/164\u001b[0m \u001b[32m━━━━━━━━━━━━━━━━━━━━\u001b[0m\u001b[37m\u001b[0m \u001b[1m41s\u001b[0m 153ms/step - AUC: 0.6370 - accuracy: 0.5981 - loss: 0.6647 - val_AUC: 0.6759 - val_accuracy: 0.6290 - val_loss: 0.6453 - learning_rate: 0.0010\n",
            "Epoch 7/50\n",
            "\u001b[1m164/164\u001b[0m \u001b[32m━━━━━━━━━━━━━━━━━━━━\u001b[0m\u001b[37m\u001b[0m \u001b[1m41s\u001b[0m 152ms/step - AUC: 0.6784 - accuracy: 0.6260 - loss: 0.6443 - val_AUC: 0.7032 - val_accuracy: 0.6549 - val_loss: 0.6324 - learning_rate: 0.0010\n",
            "Epoch 8/50\n",
            "\u001b[1m164/164\u001b[0m \u001b[32m━━━━━━━━━━━━━━━━━━━━\u001b[0m\u001b[37m\u001b[0m \u001b[1m41s\u001b[0m 155ms/step - AUC: 0.7208 - accuracy: 0.6621 - loss: 0.6162 - val_AUC: 0.7864 - val_accuracy: 0.7023 - val_loss: 0.5614 - learning_rate: 0.0010\n",
            "Epoch 9/50\n",
            "\u001b[1m164/164\u001b[0m \u001b[32m━━━━━━━━━━━━━━━━━━━━\u001b[0m\u001b[37m\u001b[0m \u001b[1m40s\u001b[0m 152ms/step - AUC: 0.7392 - accuracy: 0.6834 - loss: 0.6046 - val_AUC: 0.6782 - val_accuracy: 0.6247 - val_loss: 0.7289 - learning_rate: 0.0010\n",
            "Epoch 10/50\n",
            "\u001b[1m164/164\u001b[0m \u001b[32m━━━━━━━━━━━━━━━━━━━━\u001b[0m\u001b[37m\u001b[0m \u001b[1m41s\u001b[0m 152ms/step - AUC: 0.7349 - accuracy: 0.6631 - loss: 0.6027 - val_AUC: 0.6901 - val_accuracy: 0.6135 - val_loss: 0.7828 - learning_rate: 0.0010\n",
            "Epoch 11/50\n",
            "\u001b[1m164/164\u001b[0m \u001b[32m━━━━━━━━━━━━━━━━━━━━\u001b[0m\u001b[37m\u001b[0m \u001b[1m25s\u001b[0m 153ms/step - AUC: 0.7681 - accuracy: 0.6937 - loss: 0.5734 - val_AUC: 0.7943 - val_accuracy: 0.7274 - val_loss: 0.5546 - learning_rate: 0.0010\n",
            "Epoch 12/50\n",
            "\u001b[1m164/164\u001b[0m \u001b[32m━━━━━━━━━━━━━━━━━━━━\u001b[0m\u001b[37m\u001b[0m \u001b[1m41s\u001b[0m 151ms/step - AUC: 0.7993 - accuracy: 0.7333 - loss: 0.5475 - val_AUC: 0.8263 - val_accuracy: 0.7575 - val_loss: 0.5652 - learning_rate: 0.0010\n",
            "Epoch 13/50\n",
            "\u001b[1m164/164\u001b[0m \u001b[32m━━━━━━━━━━━━━━━━━━━━\u001b[0m\u001b[37m\u001b[0m \u001b[1m25s\u001b[0m 154ms/step - AUC: 0.8178 - accuracy: 0.7537 - loss: 0.5263 - val_AUC: 0.7162 - val_accuracy: 0.6091 - val_loss: 0.9312 - learning_rate: 0.0010\n",
            "Epoch 14/50\n",
            "\u001b[1m164/164\u001b[0m \u001b[32m━━━━━━━━━━━━━━━━━━━━\u001b[0m\u001b[37m\u001b[0m \u001b[1m41s\u001b[0m 154ms/step - AUC: 0.8432 - accuracy: 0.7633 - loss: 0.4878 - val_AUC: 0.8620 - val_accuracy: 0.7869 - val_loss: 0.4718 - learning_rate: 0.0010\n",
            "Epoch 15/50\n",
            "\u001b[1m164/164\u001b[0m \u001b[32m━━━━━━━━━━━━━━━━━━━━\u001b[0m\u001b[37m\u001b[0m \u001b[1m41s\u001b[0m 153ms/step - AUC: 0.8840 - accuracy: 0.8101 - loss: 0.4298 - val_AUC: 0.7261 - val_accuracy: 0.6255 - val_loss: 0.9100 - learning_rate: 0.0010\n",
            "Epoch 16/50\n",
            "\u001b[1m164/164\u001b[0m \u001b[32m━━━━━━━━━━━━━━━━━━━━\u001b[0m\u001b[37m\u001b[0m \u001b[1m41s\u001b[0m 154ms/step - AUC: 0.8909 - accuracy: 0.8108 - loss: 0.4142 - val_AUC: 0.8714 - val_accuracy: 0.7834 - val_loss: 0.4707 - learning_rate: 0.0010\n",
            "Epoch 17/50\n",
            "\u001b[1m164/164\u001b[0m \u001b[32m━━━━━━━━━━━━━━━━━━━━\u001b[0m\u001b[37m\u001b[0m \u001b[1m41s\u001b[0m 153ms/step - AUC: 0.9200 - accuracy: 0.8443 - loss: 0.3605 - val_AUC: 0.8760 - val_accuracy: 0.8050 - val_loss: 0.4610 - learning_rate: 0.0010\n",
            "Epoch 18/50\n",
            "\u001b[1m164/164\u001b[0m \u001b[32m━━━━━━━━━━━━━━━━━━━━\u001b[0m\u001b[37m\u001b[0m \u001b[1m42s\u001b[0m 156ms/step - AUC: 0.9351 - accuracy: 0.8599 - loss: 0.3256 - val_AUC: 0.8348 - val_accuracy: 0.7550 - val_loss: 0.5513 - learning_rate: 0.0010\n",
            "Epoch 19/50\n",
            "\u001b[1m164/164\u001b[0m \u001b[32m━━━━━━━━━━━━━━━━━━━━\u001b[0m\u001b[37m\u001b[0m \u001b[1m40s\u001b[0m 152ms/step - AUC: 0.9406 - accuracy: 0.8658 - loss: 0.3111 - val_AUC: 0.8685 - val_accuracy: 0.7955 - val_loss: 0.5036 - learning_rate: 0.0010\n",
            "Epoch 20/50\n",
            "\u001b[1m164/164\u001b[0m \u001b[32m━━━━━━━━━━━━━━━━━━━━\u001b[0m\u001b[37m\u001b[0m \u001b[1m41s\u001b[0m 150ms/step - AUC: 0.9518 - accuracy: 0.8862 - loss: 0.2806 - val_AUC: 0.7971 - val_accuracy: 0.7282 - val_loss: 0.8051 - learning_rate: 0.0010\n",
            "Epoch 21/50\n",
            "\u001b[1m164/164\u001b[0m \u001b[32m━━━━━━━━━━━━━━━━━━━━\u001b[0m\u001b[37m\u001b[0m \u001b[1m25s\u001b[0m 152ms/step - AUC: 0.9602 - accuracy: 0.8973 - loss: 0.2538 - val_AUC: 0.7858 - val_accuracy: 0.7118 - val_loss: 0.9814 - learning_rate: 0.0010\n",
            "Epoch 22/50\n",
            "\u001b[1m164/164\u001b[0m \u001b[32m━━━━━━━━━━━━━━━━━━━━\u001b[0m\u001b[37m\u001b[0m \u001b[1m0s\u001b[0m 141ms/step - AUC: 0.9668 - accuracy: 0.9082 - loss: 0.2323\n",
            "Epoch 22: ReduceLROnPlateau reducing learning rate to 0.0005000000237487257.\n",
            "\u001b[1m164/164\u001b[0m \u001b[32m━━━━━━━━━━━━━━━━━━━━\u001b[0m\u001b[37m\u001b[0m \u001b[1m25s\u001b[0m 153ms/step - AUC: 0.9668 - accuracy: 0.9082 - loss: 0.2322 - val_AUC: 0.8071 - val_accuracy: 0.7429 - val_loss: 0.9248 - learning_rate: 0.0010\n",
            "Epoch 23/50\n",
            "\u001b[1m164/164\u001b[0m \u001b[32m━━━━━━━━━━━━━━━━━━━━\u001b[0m\u001b[37m\u001b[0m \u001b[1m42s\u001b[0m 157ms/step - AUC: 0.9756 - accuracy: 0.9261 - loss: 0.1977 - val_AUC: 0.8094 - val_accuracy: 0.7437 - val_loss: 1.0440 - learning_rate: 5.0000e-04\n",
            "Epoch 24/50\n",
            "\u001b[1m164/164\u001b[0m \u001b[32m━━━━━━━━━━━━━━━━━━━━\u001b[0m\u001b[37m\u001b[0m \u001b[1m25s\u001b[0m 153ms/step - AUC: 0.9853 - accuracy: 0.9441 - loss: 0.1485 - val_AUC: 0.8259 - val_accuracy: 0.7619 - val_loss: 1.0197 - learning_rate: 5.0000e-04\n",
            "Epoch 25/50\n",
            "\u001b[1m164/164\u001b[0m \u001b[32m━━━━━━━━━━━━━━━━━━━━\u001b[0m\u001b[37m\u001b[0m \u001b[1m41s\u001b[0m 154ms/step - AUC: 0.9900 - accuracy: 0.9543 - loss: 0.1239 - val_AUC: 0.8192 - val_accuracy: 0.7601 - val_loss: 1.1651 - learning_rate: 5.0000e-04\n",
            "Epoch 26/50\n",
            "\u001b[1m164/164\u001b[0m \u001b[32m━━━━━━━━━━━━━━━━━━━━\u001b[0m\u001b[37m\u001b[0m \u001b[1m26s\u001b[0m 158ms/step - AUC: 0.9930 - accuracy: 0.9684 - loss: 0.0977 - val_AUC: 0.8032 - val_accuracy: 0.7463 - val_loss: 1.2825 - learning_rate: 5.0000e-04\n",
            "Epoch 27/50\n",
            "\u001b[1m164/164\u001b[0m \u001b[32m━━━━━━━━━━━━━━━━━━━━\u001b[0m\u001b[37m\u001b[0m \u001b[1m0s\u001b[0m 141ms/step - AUC: 0.9931 - accuracy: 0.9644 - loss: 0.1000\n",
            "Epoch 27: ReduceLROnPlateau reducing learning rate to 0.0002500000118743628.\n",
            "\u001b[1m164/164\u001b[0m \u001b[32m━━━━━━━━━━━━━━━━━━━━\u001b[0m\u001b[37m\u001b[0m \u001b[1m40s\u001b[0m 154ms/step - AUC: 0.9931 - accuracy: 0.9644 - loss: 0.0999 - val_AUC: 0.8173 - val_accuracy: 0.7679 - val_loss: 1.2471 - learning_rate: 5.0000e-04\n",
            "Epoch 27: early stopping\n",
            "Restoring model weights from the end of the best epoch: 17.\n"
          ]
        }
      ],
      "source": [
        "#BiLSTM Start to End\n",
        "top_channels = [14, 2, 0, 18, 4]  # comes from tSNE\n",
        "X_train_selected = X_train[:, top_channels, :].transpose(0, 2, 1)  # (samples, 1024, 5)\n",
        "X_test_selected = X_test[:, top_channels, :].transpose(0, 2, 1)    # (samples, 1024, 5)\n",
        "\n",
        "from keras.models import Sequential\n",
        "from keras.layers import LSTM, Dense, Dropout, Bidirectional, BatchNormalization, ReLU\n",
        "from keras.optimizers import Adam\n",
        "from keras.callbacks import EarlyStopping, ReduceLROnPlateau\n",
        "\n",
        "def create_multi_channel_bilstm(input_shape):\n",
        "    model = Sequential([\n",
        "        Bidirectional(LSTM(128, return_sequences=True), input_shape=input_shape),\n",
        "        BatchNormalization(),\n",
        "        ReLU(),\n",
        "        Dropout(0.4),\n",
        "        Bidirectional(LSTM(70)),\n",
        "        BatchNormalization(),\n",
        "        ReLU(),\n",
        "        Dropout(0.4),\n",
        "        Dense(50, activation='relu'),\n",
        "        Dense(2, activation='softmax')\n",
        "    ])\n",
        "\n",
        "    model.compile(\n",
        "        optimizer=Adam(0.001),\n",
        "        loss='categorical_crossentropy',\n",
        "        metrics=['accuracy', 'AUC']\n",
        "    )\n",
        "    return model\n",
        "\n",
        "model = create_multi_channel_bilstm((1024, 5))\n",
        "\n",
        "callbacks = [\n",
        "    EarlyStopping(monitor='val_loss', patience=10, restore_best_weights=True, verbose=1),\n",
        "    ReduceLROnPlateau(monitor='val_loss', factor=0.5, patience=5, min_lr=1e-6, verbose=1)\n",
        "]\n",
        "\n",
        "history = model.fit(\n",
        "    X_train_selected, y_train,\n",
        "    validation_data=(X_test_selected, y_test),\n",
        "    epochs=50,\n",
        "    batch_size=32,\n",
        "    callbacks=callbacks,\n",
        "    verbose=1\n",
        ")"
      ]
    },
    {
      "cell_type": "code",
      "execution_count": 4,
      "metadata": {
        "colab": {
          "base_uri": "https://localhost:8080/"
        },
        "id": "hbNpgENupz6H",
        "outputId": "2bd2dd3e-a57b-4a54-bd24-97eb9d4cc89c"
      },
      "outputs": [
        {
          "name": "stdout",
          "output_type": "stream",
          "text": [
            "\u001b[1m37/37\u001b[0m \u001b[32m━━━━━━━━━━━━━━━━━━━━\u001b[0m\u001b[37m\u001b[0m \u001b[1m3s\u001b[0m 66ms/step\n",
            "ROC AUC: 0.8797597651569614\n",
            "Average Precision: 0.8895647804041216\n",
            "              precision    recall  f1-score   support\n",
            "\n",
            "           0       0.84      0.71      0.77       535\n",
            "           1       0.78      0.89      0.83       624\n",
            "\n",
            "    accuracy                           0.81      1159\n",
            "   macro avg       0.81      0.80      0.80      1159\n",
            "weighted avg       0.81      0.81      0.80      1159\n",
            "\n"
          ]
        }
      ],
      "source": [
        "from sklearn.metrics import classification_report, roc_auc_score, average_precision_score\n",
        "\n",
        "y_pred = model.predict(X_test_selected)\n",
        "y_pred_classes = np.argmax(y_pred, axis=1)\n",
        "y_true = np.argmax(y_test, axis=1)\n",
        "\n",
        "print(\"ROC AUC:\", roc_auc_score(y_true, y_pred[:, 1]))\n",
        "print(\"Average Precision:\", average_precision_score(y_true, y_pred[:, 1]))\n",
        "print(classification_report(y_true, y_pred_classes))"
      ]
    },
    {
      "cell_type": "code",
      "execution_count": null,
      "metadata": {
        "id": "2JQixnES1iM4"
      },
      "outputs": [],
      "source": [
        "output_folder = \"Models\"\n",
        "os.makedirs(output_folder,exist_ok=True)\n",
        "model_path = os.path.join(output_folder,\"Final_Bilstm_model.keras\")\n",
        "model.save(model_path)"
      ]
    }
  ],
  "metadata": {
    "accelerator": "GPU",
    "colab": {
      "gpuType": "T4",
      "provenance": []
    },
    "kernelspec": {
      "display_name": "Python 3",
      "name": "python3"
    },
    "language_info": {
      "name": "python"
    }
  },
  "nbformat": 4,
  "nbformat_minor": 0
}
