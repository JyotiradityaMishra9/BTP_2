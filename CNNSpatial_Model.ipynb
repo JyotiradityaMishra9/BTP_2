{
  "cells": [
    {
      "cell_type": "code",
      "execution_count": 1,
      "metadata": {
        "id": "zkMyK2RGwzMT"
      },
      "outputs": [],
      "source": [
        "import random\n",
        "import numpy as np\n",
        "import tensorflow as tf\n",
        "import os\n",
        "\n",
        "# Set seeds\n",
        "SEED = 42\n",
        "random.seed(SEED)\n",
        "np.random.seed(SEED)\n",
        "tf.random.set_seed(SEED)\n",
        "os.environ['PYTHONHASHSEED'] = str(SEED)\n",
        "os.environ['TF_DETERMINISTIC_OPS'] = '1'"
      ]
    },
    {
      "cell_type": "code",
      "execution_count": null,
      "metadata": {
        "id": "n3GHDZOKoXmV"
      },
      "outputs": [],
      "source": [
        "import pandas as pd\n",
        "import numpy as np\n",
        "import os\n",
        "\n",
        "meta = pd.read_csv('Train_Test_Split.csv')\n",
        "meta = meta[meta['label'].isin(['AD', 'Healthy'])]\n",
        "\n",
        "train_meta = meta[meta['split'] == 'train']\n",
        "test_meta = meta[meta['split'] == 'test']\n",
        "\n",
        "def load_and_segment(subject_id, data_dir='Data_sampled_128HZ', segment_len=1024):\n",
        "    file_path = os.path.join(data_dir, f\"{subject_id}_data.npy\")\n",
        "    data = np.load(file_path)\n",
        "    _, time_steps = data.shape\n",
        "    num_segments = time_steps // segment_len\n",
        "    if num_segments == 0:\n",
        "        return np.empty((0, 19, segment_len))\n",
        "    data = data[:, :num_segments * segment_len]\n",
        "    segments = data.reshape(19, num_segments, segment_len).transpose(1, 0, 2)\n",
        "    return segments\n",
        "\n",
        "def process_data(meta_df, data_dir='Data_sampled_128HZ'):\n",
        "    X = []\n",
        "    y = []\n",
        "    label_map = {'AD': 1, 'Healthy': 0}\n",
        "    for _, row in meta_df.iterrows():\n",
        "        segments = load_and_segment(row['subject_id'], data_dir)\n",
        "        if segments.shape[0] == 0:\n",
        "            continue\n",
        "        X.append(segments)\n",
        "        label = label_map[row['label']]\n",
        "        one_hot = np.eye(2)[label]\n",
        "        y.extend([one_hot] * segments.shape[0])\n",
        "    X = np.concatenate(X, axis=0)\n",
        "    y = np.array(y)\n",
        "    return X, y\n",
        "X_train, y_train = process_data(train_meta)\n",
        "X_test, y_test = process_data(test_meta)\n",
        "X_train = (X_train * 1e6) - np.mean(X_train * 1e6, axis=2, keepdims=True)\n",
        "X_test = (X_test * 1e6) - np.mean(X_test * 1e6, axis=2, keepdims=True)"
      ]
    },
    {
      "cell_type": "code",
      "execution_count": 3,
      "metadata": {
        "colab": {
          "base_uri": "https://localhost:8080/"
        },
        "id": "F2tG3wLIpR8N",
        "outputId": "856de514-03db-492b-e4d8-20b14c727e13"
      },
      "outputs": [
        {
          "name": "stderr",
          "output_type": "stream",
          "text": [
            "/usr/local/lib/python3.11/dist-packages/keras/src/layers/convolutional/base_conv.py:107: UserWarning: Do not pass an `input_shape`/`input_dim` argument to a layer. When using Sequential models, prefer using an `Input(shape)` object as the first layer in the model instead.\n",
            "  super().__init__(activity_regularizer=activity_regularizer, **kwargs)\n"
          ]
        },
        {
          "name": "stdout",
          "output_type": "stream",
          "text": [
            "Epoch 1/50\n",
            "\u001b[1m82/82\u001b[0m \u001b[32m━━━━━━━━━━━━━━━━━━━━\u001b[0m\u001b[37m\u001b[0m \u001b[1m17s\u001b[0m 100ms/step - AUC: 0.5445 - accuracy: 0.5340 - loss: 4.4848 - val_AUC: 0.5432 - val_accuracy: 0.5401 - val_loss: 0.6941 - learning_rate: 0.0010\n",
            "Epoch 2/50\n",
            "\u001b[1m82/82\u001b[0m \u001b[32m━━━━━━━━━━━━━━━━━━━━\u001b[0m\u001b[37m\u001b[0m \u001b[1m15s\u001b[0m 89ms/step - AUC: 0.5763 - accuracy: 0.5530 - loss: 0.6967 - val_AUC: 0.5550 - val_accuracy: 0.5505 - val_loss: 0.6991 - learning_rate: 0.0010\n",
            "Epoch 3/50\n",
            "\u001b[1m82/82\u001b[0m \u001b[32m━━━━━━━━━━━━━━━━━━━━\u001b[0m\u001b[37m\u001b[0m \u001b[1m10s\u001b[0m 85ms/step - AUC: 0.6032 - accuracy: 0.5632 - loss: 0.6748 - val_AUC: 0.6019 - val_accuracy: 0.5884 - val_loss: 0.7419 - learning_rate: 0.0010\n",
            "Epoch 4/50\n",
            "\u001b[1m82/82\u001b[0m \u001b[32m━━━━━━━━━━━━━━━━━━━━\u001b[0m\u001b[37m\u001b[0m \u001b[1m10s\u001b[0m 85ms/step - AUC: 0.7360 - accuracy: 0.6576 - loss: 0.6153 - val_AUC: 0.7282 - val_accuracy: 0.6799 - val_loss: 0.6484 - learning_rate: 0.0010\n",
            "Epoch 5/50\n",
            "\u001b[1m82/82\u001b[0m \u001b[32m━━━━━━━━━━━━━━━━━━━━\u001b[0m\u001b[37m\u001b[0m \u001b[1m7s\u001b[0m 90ms/step - AUC: 0.8191 - accuracy: 0.7103 - loss: 0.5063 - val_AUC: 0.8179 - val_accuracy: 0.7446 - val_loss: 0.5519 - learning_rate: 0.0010\n",
            "Epoch 6/50\n",
            "\u001b[1m82/82\u001b[0m \u001b[32m━━━━━━━━━━━━━━━━━━━━\u001b[0m\u001b[37m\u001b[0m \u001b[1m7s\u001b[0m 85ms/step - AUC: 0.8640 - accuracy: 0.7370 - loss: 0.4383 - val_AUC: 0.8497 - val_accuracy: 0.7731 - val_loss: 0.5369 - learning_rate: 0.0010\n",
            "Epoch 7/50\n",
            "\u001b[1m82/82\u001b[0m \u001b[32m━━━━━━━━━━━━━━━━━━━━\u001b[0m\u001b[37m\u001b[0m \u001b[1m7s\u001b[0m 85ms/step - AUC: 0.9065 - accuracy: 0.8181 - loss: 0.3770 - val_AUC: 0.8504 - val_accuracy: 0.7757 - val_loss: 0.5412 - learning_rate: 0.0010\n",
            "Epoch 8/50\n",
            "\u001b[1m82/82\u001b[0m \u001b[32m━━━━━━━━━━━━━━━━━━━━\u001b[0m\u001b[37m\u001b[0m \u001b[1m7s\u001b[0m 84ms/step - AUC: 0.9289 - accuracy: 0.8452 - loss: 0.3308 - val_AUC: 0.8725 - val_accuracy: 0.7972 - val_loss: 0.5199 - learning_rate: 0.0010\n",
            "Epoch 9/50\n",
            "\u001b[1m82/82\u001b[0m \u001b[32m━━━━━━━━━━━━━━━━━━━━\u001b[0m\u001b[37m\u001b[0m \u001b[1m7s\u001b[0m 85ms/step - AUC: 0.9421 - accuracy: 0.8625 - loss: 0.3063 - val_AUC: 0.8399 - val_accuracy: 0.7627 - val_loss: 0.7039 - learning_rate: 0.0010\n",
            "Epoch 10/50\n",
            "\u001b[1m82/82\u001b[0m \u001b[32m━━━━━━━━━━━━━━━━━━━━\u001b[0m\u001b[37m\u001b[0m \u001b[1m7s\u001b[0m 83ms/step - AUC: 0.9533 - accuracy: 0.8747 - loss: 0.2703 - val_AUC: 0.8832 - val_accuracy: 0.7947 - val_loss: 0.5352 - learning_rate: 0.0010\n",
            "Epoch 11/50\n",
            "\u001b[1m82/82\u001b[0m \u001b[32m━━━━━━━━━━━━━━━━━━━━\u001b[0m\u001b[37m\u001b[0m \u001b[1m10s\u001b[0m 84ms/step - AUC: 0.9728 - accuracy: 0.9091 - loss: 0.2113 - val_AUC: 0.8490 - val_accuracy: 0.7843 - val_loss: 0.9259 - learning_rate: 0.0010\n",
            "Epoch 12/50\n",
            "\u001b[1m82/82\u001b[0m \u001b[32m━━━━━━━━━━━━━━━━━━━━\u001b[0m\u001b[37m\u001b[0m \u001b[1m7s\u001b[0m 89ms/step - AUC: 0.9711 - accuracy: 0.9013 - loss: 0.2122 - val_AUC: 0.8460 - val_accuracy: 0.7696 - val_loss: 0.9624 - learning_rate: 0.0010\n",
            "Epoch 13/50\n",
            "\u001b[1m82/82\u001b[0m \u001b[32m━━━━━━━━━━━━━━━━━━━━\u001b[0m\u001b[37m\u001b[0m \u001b[1m0s\u001b[0m 79ms/step - AUC: 0.9795 - accuracy: 0.9223 - loss: 0.1832\n",
            "Epoch 13: ReduceLROnPlateau reducing learning rate to 0.0005000000237487257.\n",
            "\u001b[1m82/82\u001b[0m \u001b[32m━━━━━━━━━━━━━━━━━━━━\u001b[0m\u001b[37m\u001b[0m \u001b[1m10s\u001b[0m 88ms/step - AUC: 0.9796 - accuracy: 0.9224 - loss: 0.1829 - val_AUC: 0.8268 - val_accuracy: 0.7636 - val_loss: 1.2063 - learning_rate: 0.0010\n",
            "Epoch 14/50\n",
            "\u001b[1m82/82\u001b[0m \u001b[32m━━━━━━━━━━━━━━━━━━━━\u001b[0m\u001b[37m\u001b[0m \u001b[1m11s\u001b[0m 93ms/step - AUC: 0.9848 - accuracy: 0.9326 - loss: 0.1542 - val_AUC: 0.8496 - val_accuracy: 0.7921 - val_loss: 1.0520 - learning_rate: 5.0000e-04\n",
            "Epoch 15/50\n",
            "\u001b[1m82/82\u001b[0m \u001b[32m━━━━━━━━━━━━━━━━━━━━\u001b[0m\u001b[37m\u001b[0m \u001b[1m10s\u001b[0m 86ms/step - AUC: 0.9908 - accuracy: 0.9482 - loss: 0.1231 - val_AUC: 0.8734 - val_accuracy: 0.8110 - val_loss: 0.8758 - learning_rate: 5.0000e-04\n",
            "Epoch 16/50\n",
            "\u001b[1m82/82\u001b[0m \u001b[32m━━━━━━━━━━━━━━━━━━━━\u001b[0m\u001b[37m\u001b[0m \u001b[1m10s\u001b[0m 86ms/step - AUC: 0.9932 - accuracy: 0.9587 - loss: 0.1057 - val_AUC: 0.8521 - val_accuracy: 0.8007 - val_loss: 1.2958 - learning_rate: 5.0000e-04\n",
            "Epoch 17/50\n",
            "\u001b[1m82/82\u001b[0m \u001b[32m━━━━━━━━━━━━━━━━━━━━\u001b[0m\u001b[37m\u001b[0m \u001b[1m7s\u001b[0m 84ms/step - AUC: 0.9945 - accuracy: 0.9593 - loss: 0.0923 - val_AUC: 0.8145 - val_accuracy: 0.7619 - val_loss: 1.6403 - learning_rate: 5.0000e-04\n",
            "Epoch 18/50\n",
            "\u001b[1m82/82\u001b[0m \u001b[32m━━━━━━━━━━━━━━━━━━━━\u001b[0m\u001b[37m\u001b[0m \u001b[1m0s\u001b[0m 80ms/step - AUC: 0.9956 - accuracy: 0.9646 - loss: 0.0833\n",
            "Epoch 18: ReduceLROnPlateau reducing learning rate to 0.0002500000118743628.\n",
            "\u001b[1m82/82\u001b[0m \u001b[32m━━━━━━━━━━━━━━━━━━━━\u001b[0m\u001b[37m\u001b[0m \u001b[1m10s\u001b[0m 84ms/step - AUC: 0.9956 - accuracy: 0.9646 - loss: 0.0833 - val_AUC: 0.8793 - val_accuracy: 0.8110 - val_loss: 0.9506 - learning_rate: 5.0000e-04\n",
            "Epoch 18: early stopping\n",
            "Restoring model weights from the end of the best epoch: 8.\n"
          ]
        },
        {
          "data": {
            "text/plain": [
              "<keras.src.callbacks.history.History at 0x7b8868f82290>"
            ]
          },
          "execution_count": 3,
          "metadata": {},
          "output_type": "execute_result"
        }
      ],
      "source": [
        "#CNNSpatial Start to End\n",
        "X_train_cnn = X_train[..., np.newaxis]  # shape: (N, 19, 1024, 1)\n",
        "X_test_cnn = X_test[..., np.newaxis]\n",
        "\n",
        "from keras.models import Sequential\n",
        "from keras.layers import LSTM, Dense, Dropout, Bidirectional, BatchNormalization, ReLU\n",
        "from keras.optimizers import Adam\n",
        "from keras.callbacks import EarlyStopping, ReduceLROnPlateau\n",
        "\n",
        "from tensorflow.keras.models import Sequential\n",
        "from tensorflow.keras.layers import Conv2D, MaxPooling2D, Flatten, Dense, Dropout, BatchNormalization\n",
        "\n",
        "def create_eeg_spatial_cnn_seq(input_shape=(19, 1024, 1), dropout_rate=0.3, dense_dim=128):\n",
        "    model = Sequential([\n",
        "        Conv2D(32, (3, 3), activation='relu', padding='same', input_shape=input_shape),\n",
        "        BatchNormalization(),\n",
        "        MaxPooling2D((2, 2)),\n",
        "\n",
        "        Conv2D(64, (3, 3), activation='relu', padding='same'),\n",
        "        BatchNormalization(),\n",
        "        MaxPooling2D((2, 2)),\n",
        "\n",
        "        Flatten(),\n",
        "        Dense(dense_dim, activation='relu'),\n",
        "        Dropout(dropout_rate),\n",
        "\n",
        "        Dense(2, activation='softmax')\n",
        "    ])\n",
        "    return model\n",
        "\n",
        "callbacks = [\n",
        "    EarlyStopping(monitor='val_loss', patience=10, restore_best_weights=True, verbose=1),\n",
        "    ReduceLROnPlateau(monitor='val_loss', factor=0.5, patience=5, min_lr=1e-6, verbose=1)\n",
        "]\n",
        "\n",
        "model = create_eeg_spatial_cnn_seq()\n",
        "model.compile(\n",
        "        optimizer=Adam(0.001),\n",
        "        loss='categorical_crossentropy',\n",
        "        metrics=['accuracy', 'AUC']\n",
        ")\n",
        "\n",
        "model.fit(X_train_cnn, y_train,\n",
        "          validation_data=(X_test_cnn, y_test),\n",
        "          epochs=50,\n",
        "          batch_size=64,\n",
        "          callbacks=callbacks,\n",
        "          verbose = 1)"
      ]
    },
    {
      "cell_type": "code",
      "execution_count": 4,
      "metadata": {
        "colab": {
          "base_uri": "https://localhost:8080/"
        },
        "id": "hbNpgENupz6H",
        "outputId": "78b5d95c-e981-44e6-ee9d-b5ad3c75ef91"
      },
      "outputs": [
        {
          "name": "stdout",
          "output_type": "stream",
          "text": [
            "\u001b[1m37/37\u001b[0m \u001b[32m━━━━━━━━━━━━━━━━━━━━\u001b[0m\u001b[37m\u001b[0m \u001b[1m1s\u001b[0m 11ms/step\n",
            "ROC AUC: 0.8945467888809011\n",
            "Average Precision: 0.9080660519337762\n",
            "              precision    recall  f1-score   support\n",
            "\n",
            "           0       0.86      0.67      0.75       535\n",
            "           1       0.76      0.91      0.83       624\n",
            "\n",
            "    accuracy                           0.80      1159\n",
            "   macro avg       0.81      0.79      0.79      1159\n",
            "weighted avg       0.81      0.80      0.79      1159\n",
            "\n"
          ]
        }
      ],
      "source": [
        "from sklearn.metrics import classification_report, roc_auc_score, average_precision_score\n",
        "\n",
        "y_pred = model.predict(X_test_cnn)\n",
        "y_pred_classes = np.argmax(y_pred, axis=1)\n",
        "y_true = np.argmax(y_test, axis=1)\n",
        "\n",
        "print(\"ROC AUC:\", roc_auc_score(y_true, y_pred[:, 1]))\n",
        "print(\"Average Precision:\", average_precision_score(y_true, y_pred[:, 1]))\n",
        "print(classification_report(y_true, y_pred_classes))"
      ]
    },
    {
      "cell_type": "code",
      "execution_count": null,
      "metadata": {
        "id": "2JQixnES1iM4"
      },
      "outputs": [],
      "source": [
        "output_folder = \"Models\"\n",
        "os.makedirs(output_folder,exist_ok=True)\n",
        "model_path = os.path.join(output_folder,\"Final_CNNSpatial_model.keras\")\n",
        "model.save(model_path)"
      ]
    }
  ],
  "metadata": {
    "accelerator": "GPU",
    "colab": {
      "gpuType": "T4",
      "provenance": []
    },
    "kernelspec": {
      "display_name": "Python 3",
      "name": "python3"
    },
    "language_info": {
      "name": "python"
    }
  },
  "nbformat": 4,
  "nbformat_minor": 0
}
